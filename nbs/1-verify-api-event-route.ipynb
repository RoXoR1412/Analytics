{
 "cells": [
  {
   "cell_type": "code",
   "execution_count": 15,
   "metadata": {},
   "outputs": [
    {
     "data": {
      "text/plain": [
       "'http://localhost:8000/api/events'"
      ]
     },
     "execution_count": 15,
     "metadata": {},
     "output_type": "execute_result"
    }
   ],
   "source": [
    "import requests\n",
    "path = \"/api/events\"\n",
    "base_url = \"http://localhost:8000\"\n",
    "endpoint = f\"{base_url}{path}\"\n",
    "endpoint"
   ]
  },
  {
   "cell_type": "code",
   "execution_count": 16,
   "metadata": {},
   "outputs": [
    {
     "name": "stdout",
     "output_type": "stream",
     "text": [
      "True\n",
      "{'results': [{'page': '/tests+', 'id': 1, 'description': 'test'}, {'page': '/tests+', 'id': 2, 'description': 'test'}, {'page': '/tests+', 'id': 3, 'description': 'test'}, {'page': '/tests+', 'id': 4, 'description': 'test'}, {'page': '/tests+', 'id': 5, 'description': 'test'}, {'page': '/tests+', 'id': 6, 'description': 'test'}, {'page': '/tests+', 'id': 7, 'description': 'test'}, {'page': '/tests+', 'id': 8, 'description': 'test'}, {'page': '/tests+', 'id': 9, 'description': 'test'}, {'page': '/tests+', 'id': 10, 'description': 'test'}]}\n"
     ]
    }
   ],
   "source": [
    "response = requests.get(endpoint)\n",
    "print(response.ok)\n",
    "if response.ok:\n",
    "    data=response.json()\n",
    "    print(data)"
   ]
  },
  {
   "cell_type": "code",
   "execution_count": 18,
   "metadata": {},
   "outputs": [
    {
     "name": "stdout",
     "output_type": "stream",
     "text": [
      "200\n",
      "{'id': 12, 'page': '/tests+', 'description': 'Updated using put'}\n"
     ]
    }
   ],
   "source": [
    "detail_path = \"/api/events/12\"\n",
    "base_url = \"http://localhost:8000\"\n",
    "endpoint = f\"{base_url}{detail_path}\"\n",
    "response = requests.get(endpoint)\n",
    "print(response.status_code)\n",
    "if response.ok:\n",
    "    data=response.json()\n",
    "    print(data)"
   ]
  }
 ],
 "metadata": {
  "kernelspec": {
   "display_name": "venv",
   "language": "python",
   "name": "python3"
  },
  "language_info": {
   "codemirror_mode": {
    "name": "ipython",
    "version": 3
   },
   "file_extension": ".py",
   "mimetype": "text/x-python",
   "name": "python",
   "nbconvert_exporter": "python",
   "pygments_lexer": "ipython3",
   "version": "3.13.2"
  }
 },
 "nbformat": 4,
 "nbformat_minor": 2
}
