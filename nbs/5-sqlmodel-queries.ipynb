{
 "cells": [
  {
   "cell_type": "code",
   "execution_count": 6,
   "metadata": {},
   "outputs": [],
   "source": [
    "import sys\n",
    "from pathlib import Path"
   ]
  },
  {
   "cell_type": "code",
   "execution_count": 7,
   "metadata": {},
   "outputs": [],
   "source": [
    "src_path=Path(\"../src\").resolve()\n",
    "sys.path.append(str(src_path))"
   ]
  },
  {
   "cell_type": "code",
   "execution_count": 8,
   "metadata": {},
   "outputs": [],
   "source": [
    "from sqlmodel import Session, select\n",
    "from api.db.session import engine # type: ignore\n",
    "from api.events.models import EventModel # type: ignore"
   ]
  },
  {
   "cell_type": "code",
   "execution_count": 9,
   "metadata": {},
   "outputs": [
    {
     "name": "stdout",
     "output_type": "stream",
     "text": [
      "SELECT time_bucket('1 day'::interval, eventmodel.time) AS time_bucket_1, eventmodel.page, count(*) AS count_1 \n",
      "FROM eventmodel \n",
      "WHERE eventmodel.time > '2025-03-27 09:37:02.304233+00:00' AND eventmodel.time <= '2025-03-27 11:37:02.304254+00:00' AND eventmodel.page IN ('/home', '/about', '/contact', '/pages', 'pricing') GROUP BY time_bucket('1 day'::interval, eventmodel.time), eventmodel.page ORDER BY eventmodel.page, time_bucket('1 day'::interval, eventmodel.time)\n",
      "[]\n"
     ]
    }
   ],
   "source": [
    "from timescaledb.hyperfunctions import time_bucket\n",
    "from pprint import pprint\n",
    "from sqlalchemy import func\n",
    "from datetime import datetime, timedelta, timezone\n",
    "\n",
    "with Session(engine) as session:\n",
    "    bucket=time_bucket(\"1 day\", EventModel.time)\n",
    "    pages=[\"/home\",\"/about\",\"/contact\",\"/pages\",\"pricing\"]\n",
    "    start=datetime.now(timezone.utc)-timedelta(hours=1)\n",
    "    finish=datetime.now(timezone.utc) + timedelta(hours=1)\n",
    "    statement = (\n",
    "        select(\n",
    "            bucket,\n",
    "            EventModel.page,\n",
    "            func.count()\n",
    "            )\n",
    "            .where(\n",
    "                EventModel.time>start,\n",
    "                EventModel.time<=finish,\n",
    "                EventModel.page.in_(pages),\n",
    "            )\n",
    "            .group_by(\n",
    "                bucket,\n",
    "                EventModel.page,\n",
    "            )\n",
    "            .order_by(\n",
    "                EventModel.page,\n",
    "                bucket,\n",
    "                )\n",
    "        )\n",
    "    compiled_query=statement.compile(compile_kwargs={\"literal_binds\": True})\n",
    "    print(compiled_query)\n",
    "    results = session.exec(statement).fetchall()\n",
    "    pprint(results)"
   ]
  }
 ],
 "metadata": {
  "kernelspec": {
   "display_name": "venv",
   "language": "python",
   "name": "python3"
  },
  "language_info": {
   "codemirror_mode": {
    "name": "ipython",
    "version": 3
   },
   "file_extension": ".py",
   "mimetype": "text/x-python",
   "name": "python",
   "nbconvert_exporter": "python",
   "pygments_lexer": "ipython3",
   "version": "3.13.2"
  }
 },
 "nbformat": 4,
 "nbformat_minor": 2
}
